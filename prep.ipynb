{
  "nbformat": 4,
  "nbformat_minor": 0,
  "metadata": {
    "colab": {
      "name": "prep",
      "provenance": [],
      "collapsed_sections": [
        "Q930V9mcVBEz"
      ],
      "toc_visible": true
    },
    "kernelspec": {
      "name": "python3",
      "display_name": "Python 3"
    }
  },
  "cells": [
    {
      "cell_type": "markdown",
      "metadata": {
        "id": "Q930V9mcVBEz",
        "colab_type": "text"
      },
      "source": [
        "# загрузка файлов"
      ]
    },
    {
      "cell_type": "code",
      "metadata": {
        "id": "bQCfXX5G305s",
        "colab_type": "code",
        "colab": {}
      },
      "source": [
        "from pydrive.auth import GoogleAuth\n",
        "from pydrive.drive import GoogleDrive\n",
        "from google.colab import auth\n",
        "from oauth2client.client import GoogleCredentials"
      ],
      "execution_count": null,
      "outputs": []
    },
    {
      "cell_type": "code",
      "metadata": {
        "id": "iI_JpaXZ32WI",
        "colab_type": "code",
        "colab": {}
      },
      "source": [
        "auth.authenticate_user()\n",
        "gauth = GoogleAuth()\n",
        "gauth.credentials = GoogleCredentials.get_application_default()\n",
        "drive = GoogleDrive(gauth)"
      ],
      "execution_count": null,
      "outputs": []
    },
    {
      "cell_type": "code",
      "metadata": {
        "id": "ULtOZvUU34jC",
        "colab_type": "code",
        "colab": {}
      },
      "source": [
        "download = drive.CreateFile({'id': '1fqEBaIkTTjxM-4bZ4AK0WulM087ofkQw'})"
      ],
      "execution_count": null,
      "outputs": []
    },
    {
      "cell_type": "code",
      "metadata": {
        "id": "RD6Csx_x4A6A",
        "colab_type": "code",
        "colab": {}
      },
      "source": [
        "download.GetContentFile('bar.zip')"
      ],
      "execution_count": null,
      "outputs": []
    },
    {
      "cell_type": "code",
      "metadata": {
        "id": "ZCNd_ss14I1M",
        "colab_type": "code",
        "colab": {
          "base_uri": "https://localhost:8080/",
          "height": 272
        },
        "outputId": "144ce55f-5645-4aef-aa89-a63b505347f8"
      },
      "source": [
        "!unzip bar.zip"
      ],
      "execution_count": null,
      "outputs": [
        {
          "output_type": "stream",
          "text": [
            "Archive:  bar.zip\n",
            "  inflating: spb/description/spb_market.json  \n",
            "  inflating: spb/description/spb_bars_and_clubs.json  \n",
            "  inflating: spb/description/spb_fast_snacks.json  \n",
            "  inflating: spb/description/spb_deserts.json  \n",
            "  inflating: spb/reviews/spb_market_reviews.json  \n",
            "  inflating: spb/description/spb_bakery.json  \n",
            "  inflating: spb/description/spb_coffee_and_tea.json  \n",
            "  inflating: spb/reviews/spb_coffee_and_tea_reviews.json  \n",
            "  inflating: spb/reviews/spb_deserts_reviews.json  \n",
            "  inflating: spb/reviews/spb_bars_and_clubs_reviews.json  \n",
            "  inflating: spb/reviews/spb_fast_snacks_reviews.json  \n",
            "  inflating: spb/reviews/spb_bakery_reviews.json  \n",
            "  inflating: spb/description/spb_restaurants.json  \n",
            "  inflating: spb/reviews/spb_restaurants_reviews.json  \n"
          ],
          "name": "stdout"
        }
      ]
    },
    {
      "cell_type": "markdown",
      "metadata": {
        "id": "X0mVIm8bVFGp",
        "colab_type": "text"
      },
      "source": [
        "# препроцессинг"
      ]
    },
    {
      "cell_type": "code",
      "metadata": {
        "id": "hNAJ1K702CAd",
        "colab_type": "code",
        "colab": {}
      },
      "source": [
        "import pandas as pd\n",
        "import json\n",
        "import requests"
      ],
      "execution_count": null,
      "outputs": []
    },
    {
      "cell_type": "code",
      "metadata": {
        "id": "3FDRprzR4VkB",
        "colab_type": "code",
        "colab": {}
      },
      "source": [
        "with open('/content/spb/description/spb_bars_and_clubs.json') as f:\n",
        "    data = pd.DataFrame(json.loads(line) for line in f)"
      ],
      "execution_count": null,
      "outputs": []
    },
    {
      "cell_type": "code",
      "metadata": {
        "id": "zLQwdOlL1wag",
        "colab_type": "code",
        "colab": {}
      },
      "source": [
        "api_key = ''"
      ],
      "execution_count": null,
      "outputs": []
    },
    {
      "cell_type": "code",
      "metadata": {
        "id": "YMVmlBl17s_H",
        "colab_type": "code",
        "colab": {}
      },
      "source": [
        "def create_urls (adr, api_key=''):\n",
        "  base_request = 'https://geocode-maps.yandex.ru/1.x/?apikey={api_key}&format=json&geocode={adr}'\n",
        "  return base_request.format(adr=adr, api_key=api_key)"
      ],
      "execution_count": null,
      "outputs": []
    },
    {
      "cell_type": "code",
      "metadata": {
        "id": "kjIu9M6f2WhI",
        "colab_type": "code",
        "colab": {}
      },
      "source": [
        "def get_urls(addrs):\n",
        "  urls = []\n",
        "  for addr in addrs:\n",
        "    urls.append(create_urls(addr.replace(' ', '+')))\n",
        "  return urls"
      ],
      "execution_count": null,
      "outputs": []
    },
    {
      "cell_type": "code",
      "metadata": {
        "id": "ssjYfFg5C6OE",
        "colab_type": "code",
        "colab": {}
      },
      "source": [
        "def get_coords(urls):\n",
        "  coords = []\n",
        "  #addr = []\n",
        "  for url in urls:\n",
        "    r = requests.get(url)\n",
        "    coords.append((\n",
        "        float(r.json()['response']['GeoObjectCollection']['featureMember'][0]['GeoObject']['Point']['pos'].split()[0]),\n",
        "        float(r.json()['response']['GeoObjectCollection']['featureMember'][0]['GeoObject']['Point']['pos'].split()[1])\n",
        "        ))\n",
        "    #addr.append(r.json()['response']['GeoObjectCollection']['featureMember'][0]['GeoObject']['metaDataProperty']['GeocoderMetaData']['text'])\n",
        "  return coords"
      ],
      "execution_count": null,
      "outputs": []
    },
    {
      "cell_type": "code",
      "metadata": {
        "id": "JURruiSJD3HT",
        "colab_type": "code",
        "colab": {}
      },
      "source": [
        "#addr_new = pd.read_csv('addr.csv')\n",
        "addr_new = pd.read_excel('addr.xlsx')"
      ],
      "execution_count": null,
      "outputs": []
    },
    {
      "cell_type": "code",
      "metadata": {
        "id": "QmGPkrdHW5Z4",
        "colab_type": "code",
        "colab": {}
      },
      "source": [
        "data['address'] = addr_new"
      ],
      "execution_count": null,
      "outputs": []
    },
    {
      "cell_type": "code",
      "metadata": {
        "id": "Ol9MZRs8D3Jo",
        "colab_type": "code",
        "colab": {}
      },
      "source": [
        "for i in range(1, 4):\n",
        "  data['f%s'%i] = data['feature_%s_name'%i] + ': ' + data['feature_%s'%i]"
      ],
      "execution_count": null,
      "outputs": []
    },
    {
      "cell_type": "code",
      "metadata": {
        "id": "D1I_pD0CD3Mr",
        "colab_type": "code",
        "colab": {}
      },
      "source": [
        "data['start'] = pd.to_datetime(data['schedule_start'] + data['schedule_start_letter']).dt.strftime('%H:%M')"
      ],
      "execution_count": null,
      "outputs": []
    },
    {
      "cell_type": "code",
      "metadata": {
        "id": "tUSCk7vFJZJG",
        "colab_type": "code",
        "colab": {}
      },
      "source": [
        "data['end'] = pd.to_datetime(data['schedule_end'] + data['schedule_end_letter']).dt.strftime('%H:%M')"
      ],
      "execution_count": null,
      "outputs": []
    },
    {
      "cell_type": "code",
      "metadata": {
        "id": "oMg5ZYFsJZLZ",
        "colab_type": "code",
        "colab": {}
      },
      "source": [
        "data = data.drop(['ctime', 'schedule_start', 'schedule_start_letter', 'schedule_end', 'schedule_end_letter', \n",
        "                  'feature_1_name', 'feature_1', 'feature_2_name', 'feature_2', 'feature_3_name', 'feature_3'], axis=1)"
      ],
      "execution_count": null,
      "outputs": []
    },
    {
      "cell_type": "code",
      "metadata": {
        "id": "29VJ03oaJZXy",
        "colab_type": "code",
        "colab": {}
      },
      "source": [
        "u = get_urls(data['address'])"
      ],
      "execution_count": null,
      "outputs": []
    },
    {
      "cell_type": "code",
      "metadata": {
        "id": "GfPfrwo_JZai",
        "colab_type": "code",
        "colab": {}
      },
      "source": [
        "data['coords'] = get_coords(u)"
      ],
      "execution_count": null,
      "outputs": []
    },
    {
      "cell_type": "code",
      "metadata": {
        "id": "K7jvXOOg6s63",
        "colab_type": "code",
        "colab": {}
      },
      "source": [
        "data = data.where(pd.notnull(data), None)"
      ],
      "execution_count": null,
      "outputs": []
    },
    {
      "cell_type": "code",
      "metadata": {
        "id": "vUMEzErpiW3L",
        "colab_type": "code",
        "colab": {}
      },
      "source": [
        "data.to_csv('df.csv', index=False)"
      ],
      "execution_count": null,
      "outputs": []
    },
    {
      "cell_type": "code",
      "metadata": {
        "id": "v3Ga7fmZxUhW",
        "colab_type": "code",
        "colab": {}
      },
      "source": [
        ""
      ],
      "execution_count": null,
      "outputs": []
    }
  ]
}